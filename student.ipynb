{
 "cells": [
  {
   "cell_type": "markdown",
   "metadata": {},
   "source": [
    "# Final Project Submission\n",
    "---"
   ]
  },
  {
   "cell_type": "markdown",
   "metadata": {},
   "source": [
    "## Info"
   ]
  },
  {
   "cell_type": "markdown",
   "metadata": {},
   "source": [
    "* Student name: **Barto Molina**\n",
    "* Student pace: **part time**\n",
    "* Scheduled project review date/time: **09/10/2019 5:00 PM (EST)**\n",
    "* Instructor name: **Victor Geislinger**\n",
    "* Blog post URL: **TODO**"
   ]
  },
  {
   "cell_type": "markdown",
   "metadata": {},
   "source": [
    "## The Project"
   ]
  },
  {
   "cell_type": "markdown",
   "metadata": {},
   "source": [
    "Given the data included in the Northwind database, we'll perform a statistical analysis in order to perform hypothesis tests to answer the questions below.\n",
    "\n",
    "**1. Does discount amount have a statistically significant effect on the quantity of a product in an order? If so, at what level(s) of discount?**  \n",
    "**2. Does the customer region have a statistically significant effect on the total price of an order?**  \n",
    "**3. Does the employee have a statistically significant effect on the total price of an order?**\n",
    "\n",
    "But first, we're going to explore the database in order to understand the relationship between the different tables and the meaning of the different columns."
   ]
  },
  {
   "cell_type": "markdown",
   "metadata": {},
   "source": [
    "## Imports"
   ]
  },
  {
   "cell_type": "markdown",
   "metadata": {},
   "source": [
    "We'll import the required libraries that will be used throughout the rest of the project:"
   ]
  },
  {
   "cell_type": "code",
   "execution_count": 103,
   "metadata": {},
   "outputs": [],
   "source": [
    "import sqlite3\n",
    "import pandas as pd\n",
    "import seaborn as sns\n",
    "import matplotlib.pyplot as plt\n",
    "import scipy.stats as stats\n",
    "import numpy as np\n",
    "import statsmodels.api as sm\n",
    "from statsmodels.formula.api import ols"
   ]
  },
  {
   "cell_type": "code",
   "execution_count": 104,
   "metadata": {},
   "outputs": [],
   "source": [
    "# connection to the database\n",
    "conn = sqlite3.connect(\"Northwind_small.sqlite\")"
   ]
  },
  {
   "cell_type": "markdown",
   "metadata": {},
   "source": [
    "## 0. Exploring the Dataset"
   ]
  },
  {
   "cell_type": "markdown",
   "metadata": {},
   "source": [
    "This is the Northwind database diagram:"
   ]
  },
  {
   "cell_type": "markdown",
   "metadata": {},
   "source": [
    "![Northwind DB Schema](Northwind_ERD_updated.png \"Northwind DB Schema\")"
   ]
  },
  {
   "cell_type": "markdown",
   "metadata": {},
   "source": [
    "In order to have a better understanding of the data stored in the database, we're going to summarize the relationship between the different tables and run some queries to fetch some data related to products and orders that may be useful going forward:"
   ]
  },
  {
   "cell_type": "markdown",
   "metadata": {},
   "source": [
    "We can summarize the relationship between the tables in our database as follows:\n",
    "\n",
    "- The company has **77 products** provided by **29 suppliers** from all over the world.\n",
    "- Each product falls into one of these **8 categories**: Beverages, Condiments, Confections, Dairy Products, Grains/Cereals, Meat/Poultry, Produce and Seafood.\n",
    "- There are a total of **830 orders** recorded containing 2,155 different products, with 51,317 total units sold. Orders are shipped by **3 different shipping companies**.\n",
    "- There are **9 employees** covering **53 territories** in **4 regions** (Eastern, Western, Northern, Southern) of the US.\n",
    "- There are **91 customers** from all over the world."
   ]
  },
  {
   "cell_type": "markdown",
   "metadata": {},
   "source": [
    "We've done an initial exploration of different Orders / Products, like order no. 10254, which has different products and discounts associated:"
   ]
  },
  {
   "cell_type": "code",
   "execution_count": 65,
   "metadata": {},
   "outputs": [
    {
     "data": {
      "text/html": [
       "<div>\n",
       "<style scoped>\n",
       "    .dataframe tbody tr th:only-of-type {\n",
       "        vertical-align: middle;\n",
       "    }\n",
       "\n",
       "    .dataframe tbody tr th {\n",
       "        vertical-align: top;\n",
       "    }\n",
       "\n",
       "    .dataframe thead th {\n",
       "        text-align: right;\n",
       "    }\n",
       "</style>\n",
       "<table border=\"1\" class=\"dataframe\">\n",
       "  <thead>\n",
       "    <tr style=\"text-align: right;\">\n",
       "      <th></th>\n",
       "      <th>Id</th>\n",
       "      <th>OrderId</th>\n",
       "      <th>ProductId</th>\n",
       "      <th>UnitPrice</th>\n",
       "      <th>Quantity</th>\n",
       "      <th>Discount</th>\n",
       "      <th>Id</th>\n",
       "      <th>ProductName</th>\n",
       "      <th>SupplierId</th>\n",
       "      <th>CategoryId</th>\n",
       "      <th>QuantityPerUnit</th>\n",
       "      <th>UnitPrice</th>\n",
       "      <th>UnitsInStock</th>\n",
       "      <th>UnitsOnOrder</th>\n",
       "      <th>ReorderLevel</th>\n",
       "      <th>Discontinued</th>\n",
       "    </tr>\n",
       "  </thead>\n",
       "  <tbody>\n",
       "    <tr>\n",
       "      <th>0</th>\n",
       "      <td>10254/24</td>\n",
       "      <td>10254</td>\n",
       "      <td>24</td>\n",
       "      <td>3.6</td>\n",
       "      <td>15</td>\n",
       "      <td>0.15</td>\n",
       "      <td>24</td>\n",
       "      <td>Guaraná Fantástica</td>\n",
       "      <td>10</td>\n",
       "      <td>1</td>\n",
       "      <td>12 - 355 ml cans</td>\n",
       "      <td>4.5</td>\n",
       "      <td>20</td>\n",
       "      <td>0</td>\n",
       "      <td>0</td>\n",
       "      <td>1</td>\n",
       "    </tr>\n",
       "    <tr>\n",
       "      <th>1</th>\n",
       "      <td>10254/55</td>\n",
       "      <td>10254</td>\n",
       "      <td>55</td>\n",
       "      <td>19.2</td>\n",
       "      <td>21</td>\n",
       "      <td>0.15</td>\n",
       "      <td>55</td>\n",
       "      <td>Pâté chinois</td>\n",
       "      <td>25</td>\n",
       "      <td>6</td>\n",
       "      <td>24 boxes x 2 pies</td>\n",
       "      <td>24.0</td>\n",
       "      <td>115</td>\n",
       "      <td>0</td>\n",
       "      <td>20</td>\n",
       "      <td>0</td>\n",
       "    </tr>\n",
       "    <tr>\n",
       "      <th>2</th>\n",
       "      <td>10254/74</td>\n",
       "      <td>10254</td>\n",
       "      <td>74</td>\n",
       "      <td>8.0</td>\n",
       "      <td>21</td>\n",
       "      <td>0.00</td>\n",
       "      <td>74</td>\n",
       "      <td>Longlife Tofu</td>\n",
       "      <td>4</td>\n",
       "      <td>7</td>\n",
       "      <td>5 kg pkg.</td>\n",
       "      <td>10.0</td>\n",
       "      <td>4</td>\n",
       "      <td>20</td>\n",
       "      <td>5</td>\n",
       "      <td>0</td>\n",
       "    </tr>\n",
       "  </tbody>\n",
       "</table>\n",
       "</div>"
      ],
      "text/plain": [
       "         Id  OrderId  ProductId  UnitPrice  Quantity  Discount  Id  \\\n",
       "0  10254/24    10254         24        3.6        15      0.15  24   \n",
       "1  10254/55    10254         55       19.2        21      0.15  55   \n",
       "2  10254/74    10254         74        8.0        21      0.00  74   \n",
       "\n",
       "          ProductName  SupplierId  CategoryId    QuantityPerUnit  UnitPrice  \\\n",
       "0  Guaraná Fantástica          10           1   12 - 355 ml cans        4.5   \n",
       "1        Pâté chinois          25           6  24 boxes x 2 pies       24.0   \n",
       "2       Longlife Tofu           4           7          5 kg pkg.       10.0   \n",
       "\n",
       "   UnitsInStock  UnitsOnOrder  ReorderLevel  Discontinued  \n",
       "0            20             0             0             1  \n",
       "1           115             0            20             0  \n",
       "2             4            20             5             0  "
      ]
     },
     "execution_count": 65,
     "metadata": {},
     "output_type": "execute_result"
    }
   ],
   "source": [
    "pd.read_sql_query(\"\"\"SELECT * FROM OrderDetail JOIN Product\n",
    "                       WHERE OrderDetail.ProductID = Product.ID AND OrderID = 10254\"\"\", conn)"
   ]
  },
  {
   "cell_type": "code",
   "execution_count": 78,
   "metadata": {},
   "outputs": [
    {
     "data": {
      "text/html": [
       "<div>\n",
       "<style scoped>\n",
       "    .dataframe tbody tr th:only-of-type {\n",
       "        vertical-align: middle;\n",
       "    }\n",
       "\n",
       "    .dataframe tbody tr th {\n",
       "        vertical-align: top;\n",
       "    }\n",
       "\n",
       "    .dataframe thead th {\n",
       "        text-align: right;\n",
       "    }\n",
       "</style>\n",
       "<table border=\"1\" class=\"dataframe\">\n",
       "  <thead>\n",
       "    <tr style=\"text-align: right;\">\n",
       "      <th></th>\n",
       "      <th>Id</th>\n",
       "      <th>CustomerId</th>\n",
       "      <th>EmployeeId</th>\n",
       "      <th>OrderDate</th>\n",
       "      <th>RequiredDate</th>\n",
       "      <th>ShippedDate</th>\n",
       "      <th>ShipVia</th>\n",
       "      <th>Freight</th>\n",
       "      <th>ShipName</th>\n",
       "      <th>ShipAddress</th>\n",
       "      <th>ShipCity</th>\n",
       "      <th>ShipRegion</th>\n",
       "      <th>ShipPostalCode</th>\n",
       "      <th>ShipCountry</th>\n",
       "    </tr>\n",
       "  </thead>\n",
       "  <tbody>\n",
       "    <tr>\n",
       "      <th>0</th>\n",
       "      <td>10254</td>\n",
       "      <td>CHOPS</td>\n",
       "      <td>5</td>\n",
       "      <td>2012-07-11</td>\n",
       "      <td>2012-08-08</td>\n",
       "      <td>2012-07-23</td>\n",
       "      <td>2</td>\n",
       "      <td>22.98</td>\n",
       "      <td>Chop-suey Chinese</td>\n",
       "      <td>Hauptstr. 31</td>\n",
       "      <td>Bern</td>\n",
       "      <td>Western Europe</td>\n",
       "      <td>3012</td>\n",
       "      <td>Switzerland</td>\n",
       "    </tr>\n",
       "  </tbody>\n",
       "</table>\n",
       "</div>"
      ],
      "text/plain": [
       "      Id CustomerId  EmployeeId   OrderDate RequiredDate ShippedDate  ShipVia  \\\n",
       "0  10254      CHOPS           5  2012-07-11   2012-08-08  2012-07-23        2   \n",
       "\n",
       "   Freight           ShipName   ShipAddress ShipCity      ShipRegion  \\\n",
       "0    22.98  Chop-suey Chinese  Hauptstr. 31     Bern  Western Europe   \n",
       "\n",
       "  ShipPostalCode  ShipCountry  \n",
       "0           3012  Switzerland  "
      ]
     },
     "execution_count": 78,
     "metadata": {},
     "output_type": "execute_result"
    }
   ],
   "source": [
    "pd.read_sql_query(\"SELECT * FROM [Order] WHERE ID = 10254\", conn)"
   ]
  },
  {
   "cell_type": "markdown",
   "metadata": {},
   "source": [
    "After an initial exploration of all the tables, We've determined that:\n",
    "\n",
    "- The discount is applied at the order - product level.\n",
    "- The **UnitPrice** present in the OrderDetail column corresponds to the **UnitPrice** from the **Product** table when the order takes place. This price doesn't take into account the discount."
   ]
  },
  {
   "cell_type": "markdown",
   "metadata": {},
   "source": [
    "## 1. Does discount amount have a statistically significant effect on the quantity of a product in an order? If so, at what level(s) of discount?"
   ]
  },
  {
   "cell_type": "markdown",
   "metadata": {},
   "source": [
    "First, we're going to define our hypthesis:\n",
    "\n",
    "- **$H_{0}$ - Null Hypothesis:** Discount has no statistically significant effect on the quantity of a product in an order\n",
    "- **$H_{1}$ - Alternative hypothesis:** Discount has a statistically significant effect on the quantity of a product in an order\n",
    "\n",
    "We're going to consider a standard $\\alpha$ of 0.05"
   ]
  },
  {
   "cell_type": "markdown",
   "metadata": {},
   "source": [
    "Let's load the information from the order details into a dataframe in order to find the total number of items sold at a discounted price, and the discount applied:"
   ]
  },
  {
   "cell_type": "code",
   "execution_count": 108,
   "metadata": {},
   "outputs": [
    {
     "data": {
      "text/html": [
       "<div>\n",
       "<style scoped>\n",
       "    .dataframe tbody tr th:only-of-type {\n",
       "        vertical-align: middle;\n",
       "    }\n",
       "\n",
       "    .dataframe tbody tr th {\n",
       "        vertical-align: top;\n",
       "    }\n",
       "\n",
       "    .dataframe thead th {\n",
       "        text-align: right;\n",
       "    }\n",
       "</style>\n",
       "<table border=\"1\" class=\"dataframe\">\n",
       "  <thead>\n",
       "    <tr style=\"text-align: right;\">\n",
       "      <th></th>\n",
       "      <th>Discount</th>\n",
       "      <th>Quantity</th>\n",
       "    </tr>\n",
       "  </thead>\n",
       "  <tbody>\n",
       "    <tr>\n",
       "      <th>0</th>\n",
       "      <td>0</td>\n",
       "      <td>28599</td>\n",
       "    </tr>\n",
       "    <tr>\n",
       "      <th>1</th>\n",
       "      <td>1</td>\n",
       "      <td>2</td>\n",
       "    </tr>\n",
       "    <tr>\n",
       "      <th>2</th>\n",
       "      <td>2</td>\n",
       "      <td>4</td>\n",
       "    </tr>\n",
       "    <tr>\n",
       "      <th>3</th>\n",
       "      <td>3</td>\n",
       "      <td>5</td>\n",
       "    </tr>\n",
       "    <tr>\n",
       "      <th>4</th>\n",
       "      <td>4</td>\n",
       "      <td>1</td>\n",
       "    </tr>\n",
       "    <tr>\n",
       "      <th>5</th>\n",
       "      <td>5</td>\n",
       "      <td>5182</td>\n",
       "    </tr>\n",
       "    <tr>\n",
       "      <th>6</th>\n",
       "      <td>6</td>\n",
       "      <td>2</td>\n",
       "    </tr>\n",
       "    <tr>\n",
       "      <th>7</th>\n",
       "      <td>10</td>\n",
       "      <td>4366</td>\n",
       "    </tr>\n",
       "    <tr>\n",
       "      <th>8</th>\n",
       "      <td>15</td>\n",
       "      <td>4456</td>\n",
       "    </tr>\n",
       "    <tr>\n",
       "      <th>9</th>\n",
       "      <td>20</td>\n",
       "      <td>4351</td>\n",
       "    </tr>\n",
       "    <tr>\n",
       "      <th>10</th>\n",
       "      <td>25</td>\n",
       "      <td>4349</td>\n",
       "    </tr>\n",
       "  </tbody>\n",
       "</table>\n",
       "</div>"
      ],
      "text/plain": [
       "    Discount  Quantity\n",
       "0          0     28599\n",
       "1          1         2\n",
       "2          2         4\n",
       "3          3         5\n",
       "4          4         1\n",
       "5          5      5182\n",
       "6          6         2\n",
       "7         10      4366\n",
       "8         15      4456\n",
       "9         20      4351\n",
       "10        25      4349"
      ]
     },
     "execution_count": 108,
     "metadata": {},
     "output_type": "execute_result"
    }
   ],
   "source": [
    "df_discounts = pd.read_sql_query(\"\"\"SELECT CAST (Discount * 100 AS INT) AS Discount, SUM(Quantity) AS Quantity\n",
    "                       FROM OrderDetail GROUP BY Discount\"\"\", conn)\n",
    "\n",
    "df_discounts"
   ]
  },
  {
   "cell_type": "markdown",
   "metadata": {},
   "source": [
    "We can see that the main discount categories are **0%**, **5%**, **10%**, **15%**, **20%** and **25%**. We'll ignore the rest of the discount categories, as there are very few items at those discount levels:"
   ]
  },
  {
   "cell_type": "code",
   "execution_count": 111,
   "metadata": {},
   "outputs": [
    {
     "data": {
      "text/html": [
       "<div>\n",
       "<style scoped>\n",
       "    .dataframe tbody tr th:only-of-type {\n",
       "        vertical-align: middle;\n",
       "    }\n",
       "\n",
       "    .dataframe tbody tr th {\n",
       "        vertical-align: top;\n",
       "    }\n",
       "\n",
       "    .dataframe thead th {\n",
       "        text-align: right;\n",
       "    }\n",
       "</style>\n",
       "<table border=\"1\" class=\"dataframe\">\n",
       "  <thead>\n",
       "    <tr style=\"text-align: right;\">\n",
       "      <th></th>\n",
       "      <th>ProductName</th>\n",
       "      <th>Discount</th>\n",
       "      <th>Quantity</th>\n",
       "    </tr>\n",
       "  </thead>\n",
       "  <tbody>\n",
       "    <tr>\n",
       "      <th>0</th>\n",
       "      <td>Queso Cabrales</td>\n",
       "      <td>0</td>\n",
       "      <td>12</td>\n",
       "    </tr>\n",
       "    <tr>\n",
       "      <th>1</th>\n",
       "      <td>Singaporean Hokkien Fried Mee</td>\n",
       "      <td>0</td>\n",
       "      <td>10</td>\n",
       "    </tr>\n",
       "    <tr>\n",
       "      <th>2</th>\n",
       "      <td>Mozzarella di Giovanni</td>\n",
       "      <td>0</td>\n",
       "      <td>5</td>\n",
       "    </tr>\n",
       "    <tr>\n",
       "      <th>3</th>\n",
       "      <td>Tofu</td>\n",
       "      <td>0</td>\n",
       "      <td>9</td>\n",
       "    </tr>\n",
       "    <tr>\n",
       "      <th>4</th>\n",
       "      <td>Manjimup Dried Apples</td>\n",
       "      <td>0</td>\n",
       "      <td>40</td>\n",
       "    </tr>\n",
       "    <tr>\n",
       "      <th>5</th>\n",
       "      <td>Jack's New England Clam Chowder</td>\n",
       "      <td>0</td>\n",
       "      <td>10</td>\n",
       "    </tr>\n",
       "    <tr>\n",
       "      <th>6</th>\n",
       "      <td>Manjimup Dried Apples</td>\n",
       "      <td>15</td>\n",
       "      <td>35</td>\n",
       "    </tr>\n",
       "    <tr>\n",
       "      <th>7</th>\n",
       "      <td>Louisiana Fiery Hot Pepper Sauce</td>\n",
       "      <td>15</td>\n",
       "      <td>15</td>\n",
       "    </tr>\n",
       "    <tr>\n",
       "      <th>8</th>\n",
       "      <td>Gustaf's Knäckebröd</td>\n",
       "      <td>5</td>\n",
       "      <td>6</td>\n",
       "    </tr>\n",
       "    <tr>\n",
       "      <th>9</th>\n",
       "      <td>Ravioli Angelo</td>\n",
       "      <td>5</td>\n",
       "      <td>15</td>\n",
       "    </tr>\n",
       "    <tr>\n",
       "      <th>10</th>\n",
       "      <td>Louisiana Fiery Hot Pepper Sauce</td>\n",
       "      <td>0</td>\n",
       "      <td>20</td>\n",
       "    </tr>\n",
       "    <tr>\n",
       "      <th>11</th>\n",
       "      <td>Sir Rodney's Marmalade</td>\n",
       "      <td>5</td>\n",
       "      <td>40</td>\n",
       "    </tr>\n",
       "    <tr>\n",
       "      <th>12</th>\n",
       "      <td>Geitost</td>\n",
       "      <td>5</td>\n",
       "      <td>25</td>\n",
       "    </tr>\n",
       "    <tr>\n",
       "      <th>13</th>\n",
       "      <td>Camembert Pierrot</td>\n",
       "      <td>0</td>\n",
       "      <td>40</td>\n",
       "    </tr>\n",
       "    <tr>\n",
       "      <th>14</th>\n",
       "      <td>Gorgonzola Telino</td>\n",
       "      <td>0</td>\n",
       "      <td>20</td>\n",
       "    </tr>\n",
       "  </tbody>\n",
       "</table>\n",
       "</div>"
      ],
      "text/plain": [
       "                         ProductName  Discount  Quantity\n",
       "0                     Queso Cabrales         0        12\n",
       "1      Singaporean Hokkien Fried Mee         0        10\n",
       "2             Mozzarella di Giovanni         0         5\n",
       "3                               Tofu         0         9\n",
       "4              Manjimup Dried Apples         0        40\n",
       "5    Jack's New England Clam Chowder         0        10\n",
       "6              Manjimup Dried Apples        15        35\n",
       "7   Louisiana Fiery Hot Pepper Sauce        15        15\n",
       "8                Gustaf's Knäckebröd         5         6\n",
       "9                     Ravioli Angelo         5        15\n",
       "10  Louisiana Fiery Hot Pepper Sauce         0        20\n",
       "11            Sir Rodney's Marmalade         5        40\n",
       "12                           Geitost         5        25\n",
       "13                 Camembert Pierrot         0        40\n",
       "14                 Gorgonzola Telino         0        20"
      ]
     },
     "execution_count": 111,
     "metadata": {},
     "output_type": "execute_result"
    }
   ],
   "source": [
    "df_prod_disc_qty = pd.read_sql_query(\"\"\"SELECT ProductName, CAST (Discount * 100 AS INT) AS Discount, Quantity AS Quantity\n",
    "                       FROM OrderDetail JOIN Product ON OrderDetail.ProductID = Product.ID\n",
    "                       GROUP BY OrderID, ProductId\n",
    "                       HAVING Discount IN (0, 0.05, 0.10, 0.15, 0.20, 0.25)\"\"\", conn)\n",
    "\n",
    "df_prod_disc_qty.head(15)"
   ]
  },
  {
   "cell_type": "code",
   "execution_count": 112,
   "metadata": {},
   "outputs": [
    {
     "data": {
      "image/png": "[encoded data removed]",
      "text/plain": [
       "<Figure size 432x288 with 1 Axes>"
      ]
     },
     "metadata": {
      "needs_background": "light"
     },
     "output_type": "display_data"
    }
   ],
   "source": [
    "sns.violinplot(x=df_prod_disc_qty['Discount'],y=df_prod_disc_qty['Quantity'])\n",
    "plt.show()"
   ]
  },
  {
   "cell_type": "markdown",
   "metadata": {},
   "source": [
    "### Welch's T-test"
   ]
  },
  {
   "cell_type": "markdown",
   "metadata": {},
   "source": [
    "First, we're going to compare the quantity of the products sold at no discount with the rest with a Welch's T-test:"
   ]
  },
  {
   "cell_type": "code",
   "execution_count": 113,
   "metadata": {},
   "outputs": [
    {
     "data": {
      "text/plain": [
       "5.0256277704215826e-11"
      ]
     },
     "execution_count": 113,
     "metadata": {},
     "output_type": "execute_result"
    }
   ],
   "source": [
    "df_nodiscount = df_prod_disc_qty[df_orders['Discount'] == 0].Quantity\n",
    "df_discount = df_prod_disc_qty[df_orders['Discount'] != 0].Quantity\n",
    "\n",
    "welchs = stats.ttest_ind(df_nodiscount, df_discount, equal_var=False)\n",
    "welchs.pvalue / 2"
   ]
  },
  {
   "cell_type": "markdown",
   "metadata": {},
   "source": [
    "The result is a very small p-value, much smaller than our $\\alpha$ value of 0.05, meaning that the Null Hypothesis can be rejected (we can reject the hypothesis that the discount has no statistically significant effect on the quantity of a product in an order). However, we still need to calculate the effect size. In order to do that, we'll calculate the Cohen's d:"
   ]
  },
  {
   "cell_type": "markdown",
   "metadata": {},
   "source": [
    "### Effect size / Cohen's d"
   ]
  },
  {
   "cell_type": "code",
   "execution_count": 114,
   "metadata": {},
   "outputs": [],
   "source": [
    "# aux. function to calculate Cohen's d\n",
    "\n",
    "def Cohen_d(group1, group2):\n",
    "\n",
    "    # Compute Cohen's d.\n",
    "\n",
    "    # group1: Series or NumPy array\n",
    "    # group2: Series or NumPy array\n",
    "\n",
    "    # returns a floating point number \n",
    "\n",
    "    diff = group1.mean() - group2.mean()\n",
    "\n",
    "    n1, n2 = len(group1), len(group2)\n",
    "    var1 = group1.var()\n",
    "    var2 = group2.var()\n",
    "\n",
    "    # Calculate the pooled threshold as shown earlier\n",
    "    pooled_var = (n1 * var1 + n2 * var2) / (n1 + n2)\n",
    "    \n",
    "    # Calculate Cohen's d statistic\n",
    "    d = diff / np.sqrt(pooled_var)\n",
    "    \n",
    "    return d"
   ]
  },
  {
   "cell_type": "code",
   "execution_count": 115,
   "metadata": {},
   "outputs": [
    {
     "data": {
      "text/plain": [
       "0.2997078720940889"
      ]
     },
     "execution_count": 115,
     "metadata": {},
     "output_type": "execute_result"
    }
   ],
   "source": [
    "Cohen_d(df_discount, df_nodiscount)"
   ]
  },
  {
   "cell_type": "markdown",
   "metadata": {},
   "source": [
    "As the effect (**0.3**) is higher than **0.2** we can consider it has a reasonably positive effect"
   ]
  },
  {
   "cell_type": "markdown",
   "metadata": {},
   "source": [
    "### Compare different discounts levels"
   ]
  },
  {
   "cell_type": "code",
   "execution_count": 128,
   "metadata": {},
   "outputs": [
    {
     "name": "stdout",
     "output_type": "stream",
     "text": [
      "Welch's T p-value for 5% discount = 0.00027233494432847593 / Cohen's d for 5% discount = 0.3468767736284547\n",
      "Welch's T p-value for 10% discount = 0.0374559661063408 / Cohen's d for 10% discount = 0.19594203057834103\n",
      "Welch's T p-value for 15% discount = 0.00017220729443627393 / Cohen's d for 15% discount = 0.3724041317472811\n",
      "Welch's T p-value for 20% discount = 0.0008110033254043408 / Cohen's d for 20% discount = 0.3007122542913555\n",
      "Welch's T p-value for 25% discount = 0.00015923050922125637 / Cohen's d for 25% discount = 0.3665925565267444\n"
     ]
    }
   ],
   "source": [
    "for discount in (5, 10, 15, 20, 25):\n",
    "    df_nodiscount = df_prod_disc_qty[df_orders['Discount'] == 0].Quantity\n",
    "    df_discount = df_prod_disc_qty[df_orders['Discount'] == discount].Quantity\n",
    "\n",
    "    welchs = stats.ttest_ind(df_nodiscount, df_discount, equal_var=False)\n",
    "    cohens = Cohen_d(df_discount, df_nodiscount)\n",
    "    print(f\"Welch's T p-value for {discount}% discount = {welchs.pvalue} / Cohen's d for {discount}% discount = {cohens}\")"
   ]
  },
  {
   "cell_type": "markdown",
   "metadata": {},
   "source": [
    "**We can see that the 15% discount has the highest effect on the quantity ordered with a Cohen's d of 0.37**"
   ]
  },
  {
   "cell_type": "markdown",
   "metadata": {},
   "source": [
    "## 2. Does the customer region have a statistically significant effect on the total price of an order?"
   ]
  },
  {
   "cell_type": "markdown",
   "metadata": {},
   "source": [
    "First, we're going to define our hypthesis:\n",
    "\n",
    "- **$H_{0}$ - Null Hypothesis:** The customer region has no statistically significant effect on the total price of an order\n",
    "- **$H_{1}$ - Alternative hypothesis:** The customer region has a statistically significant effect on the total price of an order\n",
    "\n",
    "We're going to consider a standard $\\alpha$ of 0.05"
   ]
  },
  {
   "cell_type": "markdown",
   "metadata": {},
   "source": [
    "Let's load the information from the order details into a dataframe in order to find the total number of items sold at a discounted price, and the discount applied:"
   ]
  },
  {
   "cell_type": "code",
   "execution_count": null,
   "metadata": {},
   "outputs": [],
   "source": []
  },
  {
   "cell_type": "markdown",
   "metadata": {},
   "source": [
    "### Welch's T-test"
   ]
  },
  {
   "cell_type": "markdown",
   "metadata": {},
   "source": [
    "First, we're going to compare the quantity of the products sold at no discount with the rest with a Welch's T-test:"
   ]
  },
  {
   "cell_type": "code",
   "execution_count": 125,
   "metadata": {},
   "outputs": [
    {
     "data": {
      "text/plain": [
       "5.0256277704215826e-11"
      ]
     },
     "execution_count": 125,
     "metadata": {},
     "output_type": "execute_result"
    }
   ],
   "source": [
    "df_nodiscount = df_prod_disc_qty[df_orders['Discount'] == 0].Quantity\n",
    "df_discount = df_prod_disc_qty[df_orders['Discount'] != 0].Quantity\n",
    "\n",
    "welchs = stats.ttest_ind(df_nodiscount, df_discount, equal_var=False)\n",
    "welchs.pvalue / 2"
   ]
  },
  {
   "cell_type": "markdown",
   "metadata": {},
   "source": [
    "The result is a very small p-value, much smaller than our $\\alpha$ value of 0.05, meaning that the Null Hypothesis can be rejected (we can reject the hypothesis that the discount has no statistically significant effect on the quantity of a product in an order). However, we still need to calculate the effect size. In order to do that, we'll calculate the Cohen's d:"
   ]
  },
  {
   "cell_type": "markdown",
   "metadata": {},
   "source": [
    "### Effect size / Cohen's d"
   ]
  },
  {
   "cell_type": "code",
   "execution_count": 127,
   "metadata": {},
   "outputs": [
    {
     "data": {
      "text/plain": [
       "0.2997078720940889"
      ]
     },
     "execution_count": 127,
     "metadata": {},
     "output_type": "execute_result"
    }
   ],
   "source": [
    "Cohen_d(df_discount, df_nodiscount)"
   ]
  },
  {
   "cell_type": "markdown",
   "metadata": {},
   "source": [
    "As the effect (**0.3**) is higher than **0.2** we can consider it has a reasonably positive effect"
   ]
  },
  {
   "cell_type": "markdown",
   "metadata": {},
   "source": [
    "### Compare different discounts levels"
   ]
  },
  {
   "cell_type": "code",
   "execution_count": 131,
   "metadata": {},
   "outputs": [
    {
     "name": "stdout",
     "output_type": "stream",
     "text": [
      "Welch's T p-value for 5% discount = 0.00027233494432847593 / Cohen's d for 5% discount = 0.3468767736284547\n",
      "Welch's T p-value for 10% discount = 0.0374559661063408 / Cohen's d for 10% discount = 0.19594203057834103\n",
      "Welch's T p-value for 15% discount = 0.00017220729443627393 / Cohen's d for 15% discount = 0.3724041317472811\n",
      "Welch's T p-value for 20% discount = 0.0008110033254043408 / Cohen's d for 20% discount = 0.3007122542913555\n",
      "Welch's T p-value for 25% discount = 0.00015923050922125637 / Cohen's d for 25% discount = 0.3665925565267444\n"
     ]
    }
   ],
   "source": [
    "for discount in (5, 10, 15, 20, 25):\n",
    "    df_nodiscount = df_prod_disc_qty[df_orders['Discount'] == 0].Quantity\n",
    "    df_discount = df_prod_disc_qty[df_orders['Discount'] == discount].Quantity\n",
    "\n",
    "    welchs = stats.ttest_ind(df_nodiscount, df_discount, equal_var=False)\n",
    "    cohens = Cohen_d(df_discount, df_nodiscount)\n",
    "    print(f\"Welch's T p-value for {discount}% discount = {welchs.pvalue} / Cohen's d for {discount}% discount = {cohens}\")"
   ]
  },
  {
   "cell_type": "markdown",
   "metadata": {},
   "source": [
    "**We can see that the 15% discount has the highest effect on the quantity ordered with a Cohen's d of 0.37**"
   ]
  },
  {
   "cell_type": "markdown",
   "metadata": {},
   "source": [
    "## 3. Does the employee have a statistically significant effect on the total price of an order?"
   ]
  },
  {
   "cell_type": "markdown",
   "metadata": {},
   "source": [
    "First, we're going to define our hypthesis:\n",
    "\n",
    "- **$H_{0}$ - Null Hypothesis:** Discount has no statistically significant effect on the quantity of a product in an order\n",
    "- **$H_{1}$ - Alternative hypothesis:** Discount has a statistically significant effect on the quantity of a product in an order\n",
    "\n",
    "We're going to consider a standard $\\alpha$ of 0.05"
   ]
  },
  {
   "cell_type": "code",
   "execution_count": null,
   "metadata": {},
   "outputs": [],
   "source": []
  },
  {
   "cell_type": "markdown",
   "metadata": {},
   "source": [
    "### Welch's T-test"
   ]
  },
  {
   "cell_type": "markdown",
   "metadata": {},
   "source": [
    "First, we're going to compare the quantity of the products sold at no discount with the rest with a Welch's T-test:"
   ]
  },
  {
   "cell_type": "code",
   "execution_count": 125,
   "metadata": {},
   "outputs": [
    {
     "data": {
      "text/plain": [
       "5.0256277704215826e-11"
      ]
     },
     "execution_count": 125,
     "metadata": {},
     "output_type": "execute_result"
    }
   ],
   "source": [
    "df_nodiscount = df_prod_disc_qty[df_orders['Discount'] == 0].Quantity\n",
    "df_discount = df_prod_disc_qty[df_orders['Discount'] != 0].Quantity\n",
    "\n",
    "welchs = stats.ttest_ind(df_nodiscount, df_discount, equal_var=False)\n",
    "welchs.pvalue / 2"
   ]
  },
  {
   "cell_type": "markdown",
   "metadata": {},
   "source": [
    "The result is a very small p-value, much smaller than our $\\alpha$ value of 0.05, meaning that the Null Hypothesis can be rejected (we can reject the hypothesis that the discount has no statistically significant effect on the quantity of a product in an order). However, we still need to calculate the effect size. In order to do that, we'll calculate the Cohen's d:"
   ]
  },
  {
   "cell_type": "markdown",
   "metadata": {},
   "source": [
    "### Effect size / Cohen's d"
   ]
  },
  {
   "cell_type": "code",
   "execution_count": 127,
   "metadata": {},
   "outputs": [
    {
     "data": {
      "text/plain": [
       "0.2997078720940889"
      ]
     },
     "execution_count": 127,
     "metadata": {},
     "output_type": "execute_result"
    }
   ],
   "source": [
    "Cohen_d(df_discount, df_nodiscount)"
   ]
  },
  {
   "cell_type": "markdown",
   "metadata": {},
   "source": [
    "As the effect (**0.3**) is higher than **0.2** we can consider it has a reasonably positive effect"
   ]
  },
  {
   "cell_type": "markdown",
   "metadata": {},
   "source": [
    "### Compare different discounts levels"
   ]
  },
  {
   "cell_type": "code",
   "execution_count": 131,
   "metadata": {},
   "outputs": [
    {
     "name": "stdout",
     "output_type": "stream",
     "text": [
      "Welch's T p-value for 5% discount = 0.00027233494432847593 / Cohen's d for 5% discount = 0.3468767736284547\n",
      "Welch's T p-value for 10% discount = 0.0374559661063408 / Cohen's d for 10% discount = 0.19594203057834103\n",
      "Welch's T p-value for 15% discount = 0.00017220729443627393 / Cohen's d for 15% discount = 0.3724041317472811\n",
      "Welch's T p-value for 20% discount = 0.0008110033254043408 / Cohen's d for 20% discount = 0.3007122542913555\n",
      "Welch's T p-value for 25% discount = 0.00015923050922125637 / Cohen's d for 25% discount = 0.3665925565267444\n"
     ]
    }
   ],
   "source": [
    "for discount in (5, 10, 15, 20, 25):\n",
    "    df_nodiscount = df_prod_disc_qty[df_orders['Discount'] == 0].Quantity\n",
    "    df_discount = df_prod_disc_qty[df_orders['Discount'] == discount].Quantity\n",
    "\n",
    "    welchs = stats.ttest_ind(df_nodiscount, df_discount, equal_var=False)\n",
    "    cohens = Cohen_d(df_discount, df_nodiscount)\n",
    "    print(f\"Welch's T p-value for {discount}% discount = {welchs.pvalue} / Cohen's d for {discount}% discount = {cohens}\")"
   ]
  },
  {
   "cell_type": "markdown",
   "metadata": {},
   "source": [
    "**We can see that the 15% discount has the highest effect on the quantity ordered with a Cohen's d of 0.37**"
   ]
  }
 ],
 "metadata": {
  "kernelspec": {
   "display_name": "Python 3",
   "language": "python",
   "name": "python3"
  },
  "language_info": {
   "codemirror_mode": {
    "name": "ipython",
    "version": 3
   },
   "file_extension": ".py",
   "mimetype": "text/x-python",
   "name": "python",
   "nbconvert_exporter": "python",
   "pygments_lexer": "ipython3",
   "version": "3.7.3"
  }
 },
 "nbformat": 4,
 "nbformat_minor": 2
}
